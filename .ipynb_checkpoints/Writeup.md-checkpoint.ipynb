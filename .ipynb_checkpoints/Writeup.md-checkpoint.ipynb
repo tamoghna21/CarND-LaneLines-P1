{
 "cells": [
  {
   "cell_type": "markdown",
   "metadata": {},
   "source": [
    "# **Finding Lane Lines on the Road** \n",
    "\n",
    "## Writeup\n",
    "\n",
    "\n",
    "---\n",
    "\n",
    "**Finding Lane Lines on the Road**\n",
    "\n",
    "The goals / steps of this project are the following:\n",
    "* Make a pipeline that finds lane lines on the road\n",
    "* Reflect on your work in a written report\n",
    "\n",
    "\n",
    "[//]: # (Image References)\n",
    "\n",
    "[image1]: ./test_images_output/solidWhiteCurve.jpg \"solidWhiteCurve\"\n",
    "\n",
    "---\n",
    "\n",
    "### Reflection\n",
    "\n",
    "### 1. Describe your pipeline. As part of the description, explain how you modified the draw_lines() function.\n",
    "\n",
    "My pipeline consisted of 5 steps. First, I converted the images to grayscale, then I .... \n",
    "\n",
    "In my pipeline, first I converted the input image to grayscale image, then applied canny edge detection, then applied\n",
    "region masking, followed by Hough transform. After Hough transformation, the resultant lines are drawn on the original image.\n",
    "\n",
    "In order to draw a single line on the left and right lanes, I modified the draw_lines() function by calculating the slope of each line and seperating the lines as either left line or right line. Then for each line, the lowest point is found and then the upper point is found by calculating from the formula: slope = (y2-y1)/(x2-x1)\n",
    "\n",
    "![alt text][image1]\n",
    "\n",
    "\n",
    "\n",
    "\n",
    "### 2. Identify potential shortcomings with your current pipeline\n",
    "\n",
    "\n",
    "One potential shortcoming would be what would happen when the lane markings are missing for a small distance.\n",
    "\n",
    "Another shortcoming could be when the road is bending.\n",
    "\n",
    "\n",
    "### 3. Suggest possible improvements to your pipeline\n",
    "\n",
    "A possible improvement would be to be able to calculate a single line for 2 parallel lines corresponding to 2 edges\n",
    "of a lane marking.\n",
    "Another improvement might be to able to draw a slightly curved lane line when there is a turn ahead.\n",
    "\n",
    "\n",
    "\n"
   ]
  },
  {
   "cell_type": "markdown",
   "metadata": {},
   "source": []
  },
  {
   "cell_type": "code",
   "execution_count": null,
   "metadata": {},
   "outputs": [],
   "source": []
  }
 ],
 "metadata": {
  "kernelspec": {
   "display_name": "Python 3",
   "language": "python",
   "name": "python3"
  },
  "language_info": {
   "codemirror_mode": {
    "name": "ipython",
    "version": 3
   },
   "file_extension": ".py",
   "mimetype": "text/x-python",
   "name": "python",
   "nbconvert_exporter": "python",
   "pygments_lexer": "ipython3",
   "version": "3.5.2"
  },
  "widgets": {
   "state": {},
   "version": "1.1.2"
  }
 },
 "nbformat": 4,
 "nbformat_minor": 2
}
